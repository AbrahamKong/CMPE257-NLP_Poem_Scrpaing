{
  "nbformat": 4,
  "nbformat_minor": 0,
  "metadata": {
    "colab": {
      "name": "NLP Poem Scraping",
      "provenance": [],
      "collapsed_sections": [],
      "include_colab_link": true
    },
    "kernelspec": {
      "name": "python3",
      "display_name": "Python 3"
    },
    "language_info": {
      "name": "python"
    }
  },
  "cells": [
    {
      "cell_type": "markdown",
      "metadata": {
        "id": "view-in-github",
        "colab_type": "text"
      },
      "source": [
        "<a href=\"https://colab.research.google.com/github/AbrahamKong/CMPE257-NLP_Poem_Scrpaing/blob/main/NLP_Poem_Scraping.ipynb\" target=\"_parent\"><img src=\"https://colab.research.google.com/assets/colab-badge.svg\" alt=\"Open In Colab\"/></a>"
      ]
    },
    {
      "cell_type": "markdown",
      "source": [
        "### Installation"
      ],
      "metadata": {
        "id": "NlEE2dkPaI8H"
      }
    },
    {
      "cell_type": "code",
      "metadata": {
        "id": "TqIRrHqpBVYw"
      },
      "source": [
        "# !pip install beautifulsoup4"
      ],
      "execution_count": 1,
      "outputs": []
    },
    {
      "cell_type": "code",
      "metadata": {
        "id": "mqfiv4fZQu_7"
      },
      "source": [
        "# !pip install -U pandas-profiling"
      ],
      "execution_count": 2,
      "outputs": []
    },
    {
      "cell_type": "markdown",
      "source": [
        "### Initialization"
      ],
      "metadata": {
        "id": "spUMYFRpaMmU"
      }
    },
    {
      "cell_type": "code",
      "metadata": {
        "id": "IJGmwTWRCdyU"
      },
      "source": [
        "import urllib.request\n",
        "import numpy as np\n",
        "import pandas as pd\n",
        "import re\n",
        "import spacy\n",
        "import bs4 as bs\n",
        "from bs4 import BeautifulSoup\n",
        "import json\n",
        "\n",
        "john_keats_poems = \"/content/drive/MyDrive/SJSU/CMPE 257/Homework 9a/DataSets/john_keats.csv\"\n",
        "lord_tennyson_poems = \"/content/drive/MyDrive/SJSU/CMPE 257/Homework 9a/DataSets/alfred_tennyson.csv\"\n",
        "langston_hughes_poems = \"/content/drive/MyDrive/SJSU/CMPE 257/Homework 9a/DataSets/langston_hughes.csv\"\n",
        "mary_j_oliver_poems = \"/content/drive/MyDrive/SJSU/CMPE 257/Homework 9a/DataSets/mary_j_oliver.csv\""
      ],
      "execution_count": 3,
      "outputs": []
    },
    {
      "cell_type": "code",
      "source": [
        "from google.colab import drive\n",
        "drive.mount('/content/drive', force_remount=True)"
      ],
      "metadata": {
        "colab": {
          "base_uri": "https://localhost:8080/"
        },
        "id": "wyxDW7UOS7rv",
        "outputId": "48018c5d-8367-4db5-834d-7fb6d505590a"
      },
      "execution_count": 4,
      "outputs": [
        {
          "output_type": "stream",
          "name": "stdout",
          "text": [
            "Mounted at /content/drive\n"
          ]
        }
      ]
    },
    {
      "cell_type": "code",
      "metadata": {
        "id": "XQI8xj9_CfOb"
      },
      "source": [
        "def beautify_txt(text):\n",
        "    # final_data = (((text).replace(u'\\xa0', u' ')).replace(r'\\r',u'\\n').replace(r'\\n', ' '))\n",
        "    final_data = (((text).replace(u'\\xa0', u' ')).replace(r'\\r',u'\\n'))\n",
        "\n",
        "    return final_data\n",
        "\n",
        "# Poet - Langston Hughes\n",
        "# Poem - Mother To Son\n",
        "Langston_Hughes_Poems = [\n",
        "\"https://allpoetry.com/Mother-To-Son\"]\n",
        "\n",
        "# Poet - Marry J Oliver\n",
        "# Poem - In Blackwater woods\n",
        "Mary_J_Oliver_Poems = [\n",
        "\"https://allpoetry.com/poem/15374219-In-Blackwater-woods-by-Mary-J-Oliver\"]\n",
        "\n",
        "Poems = [\n",
        "\"https://allpoetry.com/Mother-To-Son\",\n",
        "\"https://allpoetry.com/poem/15374219-In-Blackwater-woods-by-Mary-J-Oliver\"\n",
        "]"
      ],
      "execution_count": 5,
      "outputs": []
    },
    {
      "cell_type": "markdown",
      "source": [
        "### Scrape Data"
      ],
      "metadata": {
        "id": "KM2TWFOgtq7G"
      }
    },
    {
      "cell_type": "code",
      "source": [
        "poems_results=[]\n",
        "def scrapePoetsPoems(urls):\n",
        "  for url in urls:\n",
        "    print(url)\n",
        "    header = {'User-Agent':'Mozilla/5.0'}\n",
        "    requests = urllib.request.Request(url,headers=header)\n",
        "    requestread = urllib.request.urlopen(requests).read()\n",
        "    soup = bs.BeautifulSoup(requestread,'html.parser')\n",
        "\n",
        "    poem_content = (beautify_txt(soup.find_all('div', class_=\"poem_body\")[0].text))\n",
        "   \n",
        "    poem_title = soup.find_all('h1')[0].text\n",
        "    poems_results.append([poem_title, poem_content])\n",
        "  return poems_results"
      ],
      "metadata": {
        "id": "4wvZl3H7t3h4"
      },
      "execution_count": 6,
      "outputs": []
    },
    {
      "cell_type": "code",
      "source": [
        "import os\n",
        "#------------------------------------------\n",
        "# try to get the poem, if it is there, load it \n",
        "# if not scarpe it into a df. #playdefense\n",
        "#\n",
        "#------------------------------------------\n",
        "def get_poems(poets_poems):\n",
        "  file_exists = os.path.exists(poets_poems)\n",
        "  print(f\"{poets_poems} file_exists\")\n",
        "  if (file_exists):\n",
        "    #load it!\n",
        "    df = pd.read_csv(poets_poems, sep=';')\n",
        "    print(df.head(2))\n",
        "    return df\n",
        "  else:\n",
        "    print_the_poem(poets_poems); # call code to scrape"
      ],
      "metadata": {
        "id": "kv5hLC_v0tiv"
      },
      "execution_count": 7,
      "outputs": []
    },
    {
      "cell_type": "markdown",
      "source": [
        "#### Langston_Hughes's Poem"
      ],
      "metadata": {
        "id": "0olXy5you1k-"
      }
    },
    {
      "cell_type": "code",
      "source": [
        "# scrapeLHPoetsPoems = scrapePoetsPoems(Langston_Hughes_Poems)"
      ],
      "metadata": {
        "id": "R_xod27pi54O"
      },
      "execution_count": 8,
      "outputs": []
    },
    {
      "cell_type": "code",
      "source": [
        "# LH_DF = pd.DataFrame(scrapeLHPoetsPoems)\n",
        "# LH_DF.columns = ['Title', 'Poem']"
      ],
      "metadata": {
        "id": "2Eu1o16wi59P"
      },
      "execution_count": 9,
      "outputs": []
    },
    {
      "cell_type": "code",
      "source": [
        "# LH_DF"
      ],
      "metadata": {
        "id": "mp4noL3EkfCp"
      },
      "execution_count": 10,
      "outputs": []
    },
    {
      "cell_type": "markdown",
      "source": [
        "#### Mary J Oliver's Poem"
      ],
      "metadata": {
        "id": "F2uQ_4mlu7vC"
      }
    },
    {
      "cell_type": "code",
      "source": [
        "# scrapeMJOPoetsPoems = scrapePoetsPoems(Mary_J_Oliver_Poems)"
      ],
      "metadata": {
        "id": "-SsKKb7hkjmI"
      },
      "execution_count": 11,
      "outputs": []
    },
    {
      "cell_type": "code",
      "source": [
        "# MJO_DF = pd.DataFrame(scrapeMJOPoetsPoems)\n",
        "# MJO_DF.columns = ['Title', 'Poem']"
      ],
      "metadata": {
        "id": "GyNkPvzEkjoZ"
      },
      "execution_count": 12,
      "outputs": []
    },
    {
      "cell_type": "code",
      "source": [
        "# MJO_DF"
      ],
      "metadata": {
        "id": "aPM5rbEskjqt"
      },
      "execution_count": 13,
      "outputs": []
    },
    {
      "cell_type": "code",
      "source": [
        "poem = scrapePoetsPoems(Poems)"
      ],
      "metadata": {
        "colab": {
          "base_uri": "https://localhost:8080/"
        },
        "id": "pU3r7hjUT5Jw",
        "outputId": "9dd1c933-032e-488d-c916-71bd2784ca73"
      },
      "execution_count": 14,
      "outputs": [
        {
          "output_type": "stream",
          "name": "stdout",
          "text": [
            "https://allpoetry.com/Mother-To-Son\n",
            "https://allpoetry.com/poem/15374219-In-Blackwater-woods-by-Mary-J-Oliver\n"
          ]
        }
      ]
    },
    {
      "cell_type": "code",
      "source": [
        "poems = pd.DataFrame(poem)\n",
        "poems.columns = ['Title', 'Poem']"
      ],
      "metadata": {
        "id": "bzF576sTURSf"
      },
      "execution_count": 15,
      "outputs": []
    },
    {
      "cell_type": "code",
      "source": [
        "poems"
      ],
      "metadata": {
        "colab": {
          "base_uri": "https://localhost:8080/",
          "height": 112
        },
        "id": "4aViYxnvUkv4",
        "outputId": "d2061d30-87b5-42c0-e701-9112299c2d6d"
      },
      "execution_count": 16,
      "outputs": [
        {
          "output_type": "execute_result",
          "data": {
            "text/plain": [
              "                 Title                                               Poem\n",
              "0        Mother To Son  \\r\\n\\tWell, son, I'll tell you:\\r\\n\\tLife for ...\n",
              "1  In Blackwater woods  Look, the trees\\nare turning\\ntheir own bodies..."
            ],
            "text/html": [
              "\n",
              "  <div id=\"df-75ff784d-14ac-4772-93f3-8c090b4e2f3d\">\n",
              "    <div class=\"colab-df-container\">\n",
              "      <div>\n",
              "<style scoped>\n",
              "    .dataframe tbody tr th:only-of-type {\n",
              "        vertical-align: middle;\n",
              "    }\n",
              "\n",
              "    .dataframe tbody tr th {\n",
              "        vertical-align: top;\n",
              "    }\n",
              "\n",
              "    .dataframe thead th {\n",
              "        text-align: right;\n",
              "    }\n",
              "</style>\n",
              "<table border=\"1\" class=\"dataframe\">\n",
              "  <thead>\n",
              "    <tr style=\"text-align: right;\">\n",
              "      <th></th>\n",
              "      <th>Title</th>\n",
              "      <th>Poem</th>\n",
              "    </tr>\n",
              "  </thead>\n",
              "  <tbody>\n",
              "    <tr>\n",
              "      <th>0</th>\n",
              "      <td>Mother To Son</td>\n",
              "      <td>\\r\\n\\tWell, son, I'll tell you:\\r\\n\\tLife for ...</td>\n",
              "    </tr>\n",
              "    <tr>\n",
              "      <th>1</th>\n",
              "      <td>In Blackwater woods</td>\n",
              "      <td>Look, the trees\\nare turning\\ntheir own bodies...</td>\n",
              "    </tr>\n",
              "  </tbody>\n",
              "</table>\n",
              "</div>\n",
              "      <button class=\"colab-df-convert\" onclick=\"convertToInteractive('df-75ff784d-14ac-4772-93f3-8c090b4e2f3d')\"\n",
              "              title=\"Convert this dataframe to an interactive table.\"\n",
              "              style=\"display:none;\">\n",
              "        \n",
              "  <svg xmlns=\"http://www.w3.org/2000/svg\" height=\"24px\"viewBox=\"0 0 24 24\"\n",
              "       width=\"24px\">\n",
              "    <path d=\"M0 0h24v24H0V0z\" fill=\"none\"/>\n",
              "    <path d=\"M18.56 5.44l.94 2.06.94-2.06 2.06-.94-2.06-.94-.94-2.06-.94 2.06-2.06.94zm-11 1L8.5 8.5l.94-2.06 2.06-.94-2.06-.94L8.5 2.5l-.94 2.06-2.06.94zm10 10l.94 2.06.94-2.06 2.06-.94-2.06-.94-.94-2.06-.94 2.06-2.06.94z\"/><path d=\"M17.41 7.96l-1.37-1.37c-.4-.4-.92-.59-1.43-.59-.52 0-1.04.2-1.43.59L10.3 9.45l-7.72 7.72c-.78.78-.78 2.05 0 2.83L4 21.41c.39.39.9.59 1.41.59.51 0 1.02-.2 1.41-.59l7.78-7.78 2.81-2.81c.8-.78.8-2.07 0-2.86zM5.41 20L4 18.59l7.72-7.72 1.47 1.35L5.41 20z\"/>\n",
              "  </svg>\n",
              "      </button>\n",
              "      \n",
              "  <style>\n",
              "    .colab-df-container {\n",
              "      display:flex;\n",
              "      flex-wrap:wrap;\n",
              "      gap: 12px;\n",
              "    }\n",
              "\n",
              "    .colab-df-convert {\n",
              "      background-color: #E8F0FE;\n",
              "      border: none;\n",
              "      border-radius: 50%;\n",
              "      cursor: pointer;\n",
              "      display: none;\n",
              "      fill: #1967D2;\n",
              "      height: 32px;\n",
              "      padding: 0 0 0 0;\n",
              "      width: 32px;\n",
              "    }\n",
              "\n",
              "    .colab-df-convert:hover {\n",
              "      background-color: #E2EBFA;\n",
              "      box-shadow: 0px 1px 2px rgba(60, 64, 67, 0.3), 0px 1px 3px 1px rgba(60, 64, 67, 0.15);\n",
              "      fill: #174EA6;\n",
              "    }\n",
              "\n",
              "    [theme=dark] .colab-df-convert {\n",
              "      background-color: #3B4455;\n",
              "      fill: #D2E3FC;\n",
              "    }\n",
              "\n",
              "    [theme=dark] .colab-df-convert:hover {\n",
              "      background-color: #434B5C;\n",
              "      box-shadow: 0px 1px 3px 1px rgba(0, 0, 0, 0.15);\n",
              "      filter: drop-shadow(0px 1px 2px rgba(0, 0, 0, 0.3));\n",
              "      fill: #FFFFFF;\n",
              "    }\n",
              "  </style>\n",
              "\n",
              "      <script>\n",
              "        const buttonEl =\n",
              "          document.querySelector('#df-75ff784d-14ac-4772-93f3-8c090b4e2f3d button.colab-df-convert');\n",
              "        buttonEl.style.display =\n",
              "          google.colab.kernel.accessAllowed ? 'block' : 'none';\n",
              "\n",
              "        async function convertToInteractive(key) {\n",
              "          const element = document.querySelector('#df-75ff784d-14ac-4772-93f3-8c090b4e2f3d');\n",
              "          const dataTable =\n",
              "            await google.colab.kernel.invokeFunction('convertToInteractive',\n",
              "                                                     [key], {});\n",
              "          if (!dataTable) return;\n",
              "\n",
              "          const docLinkHtml = 'Like what you see? Visit the ' +\n",
              "            '<a target=\"_blank\" href=https://colab.research.google.com/notebooks/data_table.ipynb>data table notebook</a>'\n",
              "            + ' to learn more about interactive tables.';\n",
              "          element.innerHTML = '';\n",
              "          dataTable['output_type'] = 'display_data';\n",
              "          await google.colab.output.renderOutput(dataTable, element);\n",
              "          const docLink = document.createElement('div');\n",
              "          docLink.innerHTML = docLinkHtml;\n",
              "          element.appendChild(docLink);\n",
              "        }\n",
              "      </script>\n",
              "    </div>\n",
              "  </div>\n",
              "  "
            ]
          },
          "metadata": {},
          "execution_count": 16
        }
      ]
    },
    {
      "cell_type": "markdown",
      "source": [
        "### NLP Pre-Processing"
      ],
      "metadata": {
        "id": "we9mLr8OKVMJ"
      }
    },
    {
      "cell_type": "markdown",
      "source": [
        "#### Installation"
      ],
      "metadata": {
        "id": "uA_ivlziTIMq"
      }
    },
    {
      "cell_type": "code",
      "source": [
        "# # install spacy large english language model to use\n",
        "# ! python -m spacy download en_core_web_lg"
      ],
      "metadata": {
        "id": "V42kda0vTJ-g"
      },
      "execution_count": 17,
      "outputs": []
    },
    {
      "cell_type": "code",
      "source": [
        "# exit()"
      ],
      "metadata": {
        "id": "lKgIRTKVTTy4"
      },
      "execution_count": 18,
      "outputs": []
    },
    {
      "cell_type": "markdown",
      "source": [
        "#### POS"
      ],
      "metadata": {
        "id": "Zlj3ui72X76x"
      }
    },
    {
      "cell_type": "code",
      "source": [
        "nlp = spacy.load('en_core_web_sm')"
      ],
      "metadata": {
        "id": "q5fQqhkUajaT"
      },
      "execution_count": 19,
      "outputs": []
    },
    {
      "cell_type": "code",
      "source": [
        "corpus1 = poems['Poem'][0]\n",
        "corpus2 = poems['Poem'][1]"
      ],
      "metadata": {
        "id": "6-BIM9rEakyd"
      },
      "execution_count": 20,
      "outputs": []
    },
    {
      "cell_type": "code",
      "source": [
        "print(\"Corpus of poem 1:\\n\")\n",
        "print(corpus1)\n",
        "print(\"\\nCorpus of poem 2:\\n\")\n",
        "print(corpus2)"
      ],
      "metadata": {
        "colab": {
          "base_uri": "https://localhost:8080/"
        },
        "id": "HcuoCuutbx-g",
        "outputId": "fcabc31a-ae2c-4b74-8b4a-f02648dab55b"
      },
      "execution_count": 21,
      "outputs": [
        {
          "output_type": "stream",
          "name": "stdout",
          "text": [
            "Corpus of poem 1:\n",
            "\n",
            "\r\n",
            "\tWell, son, I'll tell you:\r\n",
            "\tLife for me ain't been no crystal stair.\r\n",
            "\tIt's had tacks in it,\r\n",
            "\tAnd splinters,\r\n",
            "\tAnd boards torn up,\r\n",
            "\tAnd places with no carpet on the floor—\r\n",
            "\tBare.\r\n",
            "\tBut all the time\r\n",
            "\tI'se been a-climbin' on,\r\n",
            "\tAnd reachin' landin's,\r\n",
            "\tAnd turnin' corners,\r\n",
            "\tAnd sometimes goin' in the dark\r\n",
            "\tWhere there ain't been no light.\r\n",
            "\tSo, boy, don't you turn back.\r\n",
            "\tDon't you set down on the steps.\r\n",
            "\t'Cause you finds it's kinder hard.\r\n",
            "\tDon't you fall now—\r\n",
            "\tFor I'se still goin', honey,\r\n",
            "\tI'se still climbin',\r\n",
            "\tAnd life for me ain't been no crystal stair. © by owner. provided at no charge for educational purposes    \n",
            "\n",
            "Corpus of poem 2:\n",
            "\n",
            "Look, the trees\n",
            "are turning\n",
            "their own bodies\n",
            "into pillars\n",
            "\n",
            "of light,\n",
            "are giving off the rich\n",
            "fragrance of cinnamon\n",
            "and fulfillment,\n",
            "\n",
            "the long tapers\n",
            "of cattails\n",
            "are bursting and floating away over\n",
            "the blue shoulders\n",
            "\n",
            "of the ponds,\n",
            "and every pond,\n",
            "no matter what its\n",
            "name is, is\n",
            "\n",
            "nameless now.\n",
            "Every year\n",
            "everything\n",
            "I have ever learned\n",
            "\n",
            "in my lifetime\n",
            "leads back to this: the fires\n",
            "and the black river of loss\n",
            "whose other side\n",
            "\n",
            "is salvation,\n",
            "whose meaning\n",
            "none of us will ever know.\n",
            "To live in this world\n",
            "\n",
            "you must be able\n",
            "to do three things:\n",
            "to love what is mortal;\n",
            "to hold it\n",
            "\n",
            "against your bones knowing\n",
            "your own life depends on it;\n",
            "and, when the time comes to let it\n",
            "go,\n",
            "to let it go. © by owner. provided at no charge for educational purposes    \n"
          ]
        }
      ]
    },
    {
      "cell_type": "code",
      "source": [
        "removed_char_1_list = [re.sub(r\"[^a-zA-Z0-9]+\", ' ', doc) for doc in corpus1]\n",
        "removed_char_2_list = [re.sub(r\"[^a-zA-Z0-9]+\", ' ', doc) for doc in corpus2]"
      ],
      "metadata": {
        "id": "3txMV-eDbKoq"
      },
      "execution_count": 22,
      "outputs": []
    },
    {
      "cell_type": "code",
      "source": [
        "removed_char_1 = ''.join([str(elem) for elem in removed_char_1_list])\n",
        "removed_char_2 = ''.join([str(elem) for elem in removed_char_2_list])"
      ],
      "metadata": {
        "id": "vBjihiRIctJN"
      },
      "execution_count": 23,
      "outputs": []
    },
    {
      "cell_type": "code",
      "source": [
        "print(\"Clean Version of poem 1:\\n\")\n",
        "print(removed_char_1)\n",
        "print(\"\\nClean Version of poem 2:\\n\")\n",
        "print(removed_char_2)"
      ],
      "metadata": {
        "colab": {
          "base_uri": "https://localhost:8080/"
        },
        "id": "Z6c2ULSHbxPV",
        "outputId": "d176fdd4-6531-43cd-9e3d-2ac9b283f686"
      },
      "execution_count": 24,
      "outputs": [
        {
          "output_type": "stream",
          "name": "stdout",
          "text": [
            "Clean Version of poem 1:\n",
            "\n",
            "   Well  son  I ll tell you    Life for me ain t been no crystal stair    It s had tacks in it    And splinters    And boards torn up    And places with no carpet on the floor    Bare    But all the time   I se been a climbin  on    And reachin  landin s    And turnin  corners    And sometimes goin  in the dark   Where there ain t been no light    So  boy  don t you turn back    Don t you set down on the steps     Cause you finds it s kinder hard    Don t you fall now    For I se still goin   honey    I se still climbin     And life for me ain t been no crystal stair    by owner  provided at no charge for educational purposes    \n",
            "\n",
            "Clean Version of poem 2:\n",
            "\n",
            "Look  the trees are turning their own bodies into pillars  of light  are giving off the rich fragrance of cinnamon and fulfillment   the long tapers of cattails are bursting and floating away over the blue shoulders  of the ponds  and every pond  no matter what its name is  is  nameless now  Every year everything I have ever learned  in my lifetime leads back to this  the fires and the black river of loss whose other side  is salvation  whose meaning none of us will ever know  To live in this world  you must be able to do three things  to love what is mortal  to hold it  against your bones knowing your own life depends on it  and  when the time comes to let it go  to let it go    by owner  provided at no charge for educational purposes    \n"
          ]
        }
      ]
    },
    {
      "cell_type": "code",
      "source": [
        "doc1 = nlp(removed_char_1)\n",
        "doc2 = nlp(removed_char_2)"
      ],
      "metadata": {
        "id": "ctLtRbNWbRzc"
      },
      "execution_count": 25,
      "outputs": []
    },
    {
      "cell_type": "code",
      "source": [
        "print(\"POS of poem 1:\\n\")\n",
        "print(doc1)\n",
        "print(\"\\nPOS of poem 2:\\n\")\n",
        "print(doc2)"
      ],
      "metadata": {
        "colab": {
          "base_uri": "https://localhost:8080/"
        },
        "id": "8AoRJBzRbbYP",
        "outputId": "f7016623-e7dc-4024-9e15-bc48af14bd23"
      },
      "execution_count": 26,
      "outputs": [
        {
          "output_type": "stream",
          "name": "stdout",
          "text": [
            "POS of poem 1:\n",
            "\n",
            "   Well  son  I ll tell you    Life for me ain t been no crystal stair    It s had tacks in it    And splinters    And boards torn up    And places with no carpet on the floor    Bare    But all the time   I se been a climbin  on    And reachin  landin s    And turnin  corners    And sometimes goin  in the dark   Where there ain t been no light    So  boy  don t you turn back    Don t you set down on the steps     Cause you finds it s kinder hard    Don t you fall now    For I se still goin   honey    I se still climbin     And life for me ain t been no crystal stair    by owner  provided at no charge for educational purposes    \n",
            "\n",
            "POS of poem 2:\n",
            "\n",
            "Look  the trees are turning their own bodies into pillars  of light  are giving off the rich fragrance of cinnamon and fulfillment   the long tapers of cattails are bursting and floating away over the blue shoulders  of the ponds  and every pond  no matter what its name is  is  nameless now  Every year everything I have ever learned  in my lifetime leads back to this  the fires and the black river of loss whose other side  is salvation  whose meaning none of us will ever know  To live in this world  you must be able to do three things  to love what is mortal  to hold it  against your bones knowing your own life depends on it  and  when the time comes to let it go  to let it go    by owner  provided at no charge for educational purposes    \n"
          ]
        }
      ]
    },
    {
      "cell_type": "code",
      "source": [
        "poem1_pos = []\n",
        "poem2_pos = []\n",
        "\n",
        "for token in doc1:\n",
        "  if token.pos_ in ('PROPN', 'NUM', 'VERB', 'NOUN', 'ADJ'):\n",
        "    poem1_pos.append(token.text)\n",
        "\n",
        "for token in doc1:\n",
        "  if token.pos_ in ('PROPN', 'NUM', 'VERB', 'NOUN', 'ADJ'):\n",
        "    poem2_pos.append(token.text)"
      ],
      "metadata": {
        "id": "IODCw7z5d3EO"
      },
      "execution_count": 27,
      "outputs": []
    },
    {
      "cell_type": "code",
      "source": [
        "poem1_pos"
      ],
      "metadata": {
        "colab": {
          "base_uri": "https://localhost:8080/"
        },
        "id": "W3h1N5cFerTh",
        "outputId": "a1387f8e-6132-47b1-caef-a790a1d54af6"
      },
      "execution_count": 28,
      "outputs": [
        {
          "output_type": "execute_result",
          "data": {
            "text/plain": [
              "['son',\n",
              " 'll',\n",
              " 'tell',\n",
              " 'Life',\n",
              " 'ain',\n",
              " 't',\n",
              " 'crystal',\n",
              " 'stair',\n",
              " 's',\n",
              " 'tacks',\n",
              " 'splinters',\n",
              " 'boards',\n",
              " 'torn',\n",
              " 'places',\n",
              " 'carpet',\n",
              " 'floor',\n",
              " 'Bare',\n",
              " 'time',\n",
              " 'se',\n",
              " 'climbin',\n",
              " 'reachin',\n",
              " 'landin',\n",
              " 's',\n",
              " 'turnin',\n",
              " 'corners',\n",
              " 'goin',\n",
              " 'dark',\n",
              " 'ain',\n",
              " 't',\n",
              " 'been',\n",
              " 'light',\n",
              " 'boy',\n",
              " 'don',\n",
              " 't',\n",
              " 'turn',\n",
              " 'Don',\n",
              " 't',\n",
              " 'set',\n",
              " 'steps',\n",
              " 'Cause',\n",
              " 'finds',\n",
              " 's',\n",
              " 'Don',\n",
              " 't',\n",
              " 'fall',\n",
              " 'goin',\n",
              " 'honey',\n",
              " 'climbin',\n",
              " 'life',\n",
              " 'ain',\n",
              " 't',\n",
              " 'crystal',\n",
              " 'stair',\n",
              " 'owner',\n",
              " 'provided',\n",
              " 'charge',\n",
              " 'educational',\n",
              " 'purposes']"
            ]
          },
          "metadata": {},
          "execution_count": 28
        }
      ]
    },
    {
      "cell_type": "code",
      "source": [
        "poem2_pos"
      ],
      "metadata": {
        "colab": {
          "base_uri": "https://localhost:8080/"
        },
        "id": "wK1wN5xiewQy",
        "outputId": "5017d4aa-9887-49c2-b8c7-0c2b9bd44711"
      },
      "execution_count": 29,
      "outputs": [
        {
          "output_type": "execute_result",
          "data": {
            "text/plain": [
              "['son',\n",
              " 'll',\n",
              " 'tell',\n",
              " 'Life',\n",
              " 'ain',\n",
              " 't',\n",
              " 'crystal',\n",
              " 'stair',\n",
              " 's',\n",
              " 'tacks',\n",
              " 'splinters',\n",
              " 'boards',\n",
              " 'torn',\n",
              " 'places',\n",
              " 'carpet',\n",
              " 'floor',\n",
              " 'Bare',\n",
              " 'time',\n",
              " 'se',\n",
              " 'climbin',\n",
              " 'reachin',\n",
              " 'landin',\n",
              " 's',\n",
              " 'turnin',\n",
              " 'corners',\n",
              " 'goin',\n",
              " 'dark',\n",
              " 'ain',\n",
              " 't',\n",
              " 'been',\n",
              " 'light',\n",
              " 'boy',\n",
              " 'don',\n",
              " 't',\n",
              " 'turn',\n",
              " 'Don',\n",
              " 't',\n",
              " 'set',\n",
              " 'steps',\n",
              " 'Cause',\n",
              " 'finds',\n",
              " 's',\n",
              " 'Don',\n",
              " 't',\n",
              " 'fall',\n",
              " 'goin',\n",
              " 'honey',\n",
              " 'climbin',\n",
              " 'life',\n",
              " 'ain',\n",
              " 't',\n",
              " 'crystal',\n",
              " 'stair',\n",
              " 'owner',\n",
              " 'provided',\n",
              " 'charge',\n",
              " 'educational',\n",
              " 'purposes']"
            ]
          },
          "metadata": {},
          "execution_count": 29
        }
      ]
    },
    {
      "cell_type": "code",
      "source": [
        "pos_list = [poem1_pos, poem2_pos]"
      ],
      "metadata": {
        "id": "4cSuoUfCf-Rd"
      },
      "execution_count": 30,
      "outputs": []
    },
    {
      "cell_type": "code",
      "source": [
        "poems['POS'] = pos_list"
      ],
      "metadata": {
        "id": "13S8bESAgl5O"
      },
      "execution_count": 31,
      "outputs": []
    },
    {
      "cell_type": "code",
      "source": [
        "poems"
      ],
      "metadata": {
        "colab": {
          "base_uri": "https://localhost:8080/",
          "height": 112
        },
        "id": "cnx7trFJgphp",
        "outputId": "8507f522-f8f9-4434-e795-137fc7dd51ac"
      },
      "execution_count": 32,
      "outputs": [
        {
          "output_type": "execute_result",
          "data": {
            "text/plain": [
              "                 Title                                               Poem  \\\n",
              "0        Mother To Son  \\r\\n\\tWell, son, I'll tell you:\\r\\n\\tLife for ...   \n",
              "1  In Blackwater woods  Look, the trees\\nare turning\\ntheir own bodies...   \n",
              "\n",
              "                                                 POS  \n",
              "0  [son, ll, tell, Life, ain, t, crystal, stair, ...  \n",
              "1  [son, ll, tell, Life, ain, t, crystal, stair, ...  "
            ],
            "text/html": [
              "\n",
              "  <div id=\"df-37c5d2da-c4a0-4a7c-b35d-796c3ba25672\">\n",
              "    <div class=\"colab-df-container\">\n",
              "      <div>\n",
              "<style scoped>\n",
              "    .dataframe tbody tr th:only-of-type {\n",
              "        vertical-align: middle;\n",
              "    }\n",
              "\n",
              "    .dataframe tbody tr th {\n",
              "        vertical-align: top;\n",
              "    }\n",
              "\n",
              "    .dataframe thead th {\n",
              "        text-align: right;\n",
              "    }\n",
              "</style>\n",
              "<table border=\"1\" class=\"dataframe\">\n",
              "  <thead>\n",
              "    <tr style=\"text-align: right;\">\n",
              "      <th></th>\n",
              "      <th>Title</th>\n",
              "      <th>Poem</th>\n",
              "      <th>POS</th>\n",
              "    </tr>\n",
              "  </thead>\n",
              "  <tbody>\n",
              "    <tr>\n",
              "      <th>0</th>\n",
              "      <td>Mother To Son</td>\n",
              "      <td>\\r\\n\\tWell, son, I'll tell you:\\r\\n\\tLife for ...</td>\n",
              "      <td>[son, ll, tell, Life, ain, t, crystal, stair, ...</td>\n",
              "    </tr>\n",
              "    <tr>\n",
              "      <th>1</th>\n",
              "      <td>In Blackwater woods</td>\n",
              "      <td>Look, the trees\\nare turning\\ntheir own bodies...</td>\n",
              "      <td>[son, ll, tell, Life, ain, t, crystal, stair, ...</td>\n",
              "    </tr>\n",
              "  </tbody>\n",
              "</table>\n",
              "</div>\n",
              "      <button class=\"colab-df-convert\" onclick=\"convertToInteractive('df-37c5d2da-c4a0-4a7c-b35d-796c3ba25672')\"\n",
              "              title=\"Convert this dataframe to an interactive table.\"\n",
              "              style=\"display:none;\">\n",
              "        \n",
              "  <svg xmlns=\"http://www.w3.org/2000/svg\" height=\"24px\"viewBox=\"0 0 24 24\"\n",
              "       width=\"24px\">\n",
              "    <path d=\"M0 0h24v24H0V0z\" fill=\"none\"/>\n",
              "    <path d=\"M18.56 5.44l.94 2.06.94-2.06 2.06-.94-2.06-.94-.94-2.06-.94 2.06-2.06.94zm-11 1L8.5 8.5l.94-2.06 2.06-.94-2.06-.94L8.5 2.5l-.94 2.06-2.06.94zm10 10l.94 2.06.94-2.06 2.06-.94-2.06-.94-.94-2.06-.94 2.06-2.06.94z\"/><path d=\"M17.41 7.96l-1.37-1.37c-.4-.4-.92-.59-1.43-.59-.52 0-1.04.2-1.43.59L10.3 9.45l-7.72 7.72c-.78.78-.78 2.05 0 2.83L4 21.41c.39.39.9.59 1.41.59.51 0 1.02-.2 1.41-.59l7.78-7.78 2.81-2.81c.8-.78.8-2.07 0-2.86zM5.41 20L4 18.59l7.72-7.72 1.47 1.35L5.41 20z\"/>\n",
              "  </svg>\n",
              "      </button>\n",
              "      \n",
              "  <style>\n",
              "    .colab-df-container {\n",
              "      display:flex;\n",
              "      flex-wrap:wrap;\n",
              "      gap: 12px;\n",
              "    }\n",
              "\n",
              "    .colab-df-convert {\n",
              "      background-color: #E8F0FE;\n",
              "      border: none;\n",
              "      border-radius: 50%;\n",
              "      cursor: pointer;\n",
              "      display: none;\n",
              "      fill: #1967D2;\n",
              "      height: 32px;\n",
              "      padding: 0 0 0 0;\n",
              "      width: 32px;\n",
              "    }\n",
              "\n",
              "    .colab-df-convert:hover {\n",
              "      background-color: #E2EBFA;\n",
              "      box-shadow: 0px 1px 2px rgba(60, 64, 67, 0.3), 0px 1px 3px 1px rgba(60, 64, 67, 0.15);\n",
              "      fill: #174EA6;\n",
              "    }\n",
              "\n",
              "    [theme=dark] .colab-df-convert {\n",
              "      background-color: #3B4455;\n",
              "      fill: #D2E3FC;\n",
              "    }\n",
              "\n",
              "    [theme=dark] .colab-df-convert:hover {\n",
              "      background-color: #434B5C;\n",
              "      box-shadow: 0px 1px 3px 1px rgba(0, 0, 0, 0.15);\n",
              "      filter: drop-shadow(0px 1px 2px rgba(0, 0, 0, 0.3));\n",
              "      fill: #FFFFFF;\n",
              "    }\n",
              "  </style>\n",
              "\n",
              "      <script>\n",
              "        const buttonEl =\n",
              "          document.querySelector('#df-37c5d2da-c4a0-4a7c-b35d-796c3ba25672 button.colab-df-convert');\n",
              "        buttonEl.style.display =\n",
              "          google.colab.kernel.accessAllowed ? 'block' : 'none';\n",
              "\n",
              "        async function convertToInteractive(key) {\n",
              "          const element = document.querySelector('#df-37c5d2da-c4a0-4a7c-b35d-796c3ba25672');\n",
              "          const dataTable =\n",
              "            await google.colab.kernel.invokeFunction('convertToInteractive',\n",
              "                                                     [key], {});\n",
              "          if (!dataTable) return;\n",
              "\n",
              "          const docLinkHtml = 'Like what you see? Visit the ' +\n",
              "            '<a target=\"_blank\" href=https://colab.research.google.com/notebooks/data_table.ipynb>data table notebook</a>'\n",
              "            + ' to learn more about interactive tables.';\n",
              "          element.innerHTML = '';\n",
              "          dataTable['output_type'] = 'display_data';\n",
              "          await google.colab.output.renderOutput(dataTable, element);\n",
              "          const docLink = document.createElement('div');\n",
              "          docLink.innerHTML = docLinkHtml;\n",
              "          element.appendChild(docLink);\n",
              "        }\n",
              "      </script>\n",
              "    </div>\n",
              "  </div>\n",
              "  "
            ]
          },
          "metadata": {},
          "execution_count": 32
        }
      ]
    },
    {
      "cell_type": "markdown",
      "source": [
        "### Similarity between Poet 1 (Langston Hughes) and Poet 2 (Mary J Oliver)"
      ],
      "metadata": {
        "id": "_2LVVw4-KvFC"
      }
    },
    {
      "cell_type": "code",
      "source": [
        "poet1= nlp(corpus1)\n",
        "poet2= nlp(corpus2)\n",
        "\n",
        "print('Similariy score between the two poets\\n')\n",
        "print(poet1.similarity(poet2))"
      ],
      "metadata": {
        "colab": {
          "base_uri": "https://localhost:8080/"
        },
        "id": "7RCh6DNofO3o",
        "outputId": "fb1c8d32-02cc-4adc-e621-02f2ee73856a"
      },
      "execution_count": 33,
      "outputs": [
        {
          "output_type": "stream",
          "name": "stdout",
          "text": [
            "Similariy score between the two poets\n",
            "\n",
            "0.8727355666543418\n"
          ]
        },
        {
          "output_type": "stream",
          "name": "stderr",
          "text": [
            "/usr/lib/python3.7/runpy.py:193: ModelsWarning: [W007] The model you're using has no word vectors loaded, so the result of the Doc.similarity method will be based on the tagger, parser and NER, which may not give useful similarity judgements. This may happen if you're using one of the small models, e.g. `en_core_web_sm`, which don't ship with word vectors and only use context-sensitive tensors. You can always add your own word vectors, or use one of the larger models instead if available.\n",
            "  \"__main__\", mod_spec)\n"
          ]
        }
      ]
    },
    {
      "cell_type": "markdown",
      "source": [
        "### Save to JSON"
      ],
      "metadata": {
        "id": "pKpSNxTPtkW0"
      }
    },
    {
      "cell_type": "code",
      "source": [
        "poems.iloc[0].to_json(r'/content/poet1.json')\n",
        "poems.iloc[1].to_json(r'/content/poet2.json')"
      ],
      "metadata": {
        "id": "auBe83l_hyB8"
      },
      "execution_count": 34,
      "outputs": []
    },
    {
      "cell_type": "markdown",
      "metadata": {
        "id": "2KFNxXnlbQZf"
      },
      "source": [
        "## Transformers"
      ]
    },
    {
      "cell_type": "markdown",
      "source": [
        "### Functions"
      ],
      "metadata": {
        "id": "XZ04c19-v4qg"
      }
    },
    {
      "cell_type": "code",
      "metadata": {
        "id": "_5LAGGHcSjhE"
      },
      "source": [
        "def cleanPoemText(text):\n",
        "    \n",
        "    text = re.sub(r'<.*?>', ' ', text)\n",
        "    text = re.sub(r\"won't\", \"will not\", text)\n",
        "    text = re.sub(r\"can't\", \"can not\", text)\n",
        "    text = re.sub(r\"n't\", \" not\", text)\n",
        "    text = re.sub(r\"'ve\", \" have\", text)\n",
        "    text = re.sub(r\"'ll\", \" will\", text)\n",
        "    text = re.sub(r\"'re\", \" are\", text)\n",
        "\n",
        "    if embedding is not 'BERT':\n",
        "        text = re.sub(r\"[0-9]+\", ' ', text)\n",
        "        text = re.sub(r\"-\", ' ', text)\n",
        "    \n",
        "    \n",
        "    text = text.strip().lower()\n",
        "    \n",
        "    if embedding is 'WORD2VEC_NO_STOP':\n",
        "        # Removal of Stop words\n",
        "        default_stop_words = set(stopwords.words('english'))\n",
        "        default_stop_words.difference_update({'no', 'not', 'nor', 'too', 'any'})\n",
        "        stop_words = default_stop_words.union({\"'m\", \"n't\", \"'d\", \"'re\", \"'s\",\n",
        "                                               'would','must',\"'ve\",\"'ll\",'may'})\n",
        "    \n",
        "        word_list = word_tokenize(text)\n",
        "        filtered_list = [w for w in word_list if not w in stop_words]\n",
        "        text = ' '.join(filtered_list)\n",
        "    \n",
        "    if embedding is not 'BERT':\n",
        "        # Removal of other contractions\n",
        "        text = re.sub(r\"'\", ' ', text)\n",
        "    \n",
        "    # Replace punctuations with space\n",
        "    if embedding is 'BERT': # save ! ? . for end of the sentence detection [,/():;']\n",
        "        filters='\"#$%&*+<=>@[\\\\]^_`{|}~\\t\\n'\n",
        "        text = re.sub(r'\\!+', '!', text)\n",
        "        text = re.sub(r'\\?+', '?', text)\n",
        "    else:\n",
        "        filters='!\"\\'#$%&()*+,-./:;<=>?@[\\\\]^_`{|}~\\t\\n'\n",
        "    translate_dict = dict((i, \" \") for i in filters)\n",
        "    translate_map = str.maketrans(translate_dict)\n",
        "    text = text.translate(translate_map)\n",
        "    \n",
        "    if embedding is 'BERT':\n",
        "        text = re.sub(r'\\( *\\)', ' ', text)\n",
        "\n",
        "    if embedding is not 'BERT':\n",
        "        text = ' '.join([w for w in text.split() if len(w)>1])\n",
        "\n",
        "    # Replace multiple space with one space\n",
        "    text = re.sub(' +', ' ', text)\n",
        "    \n",
        "    text = ''.join(text)\n",
        "\n",
        "    return text"
      ],
      "execution_count": 36,
      "outputs": []
    },
    {
      "cell_type": "code",
      "metadata": {
        "id": "Uy2v10sXeiLN"
      },
      "source": [
        "def normalization_pos(text):\n",
        "    # Lemmatization and Stemming according to POS tags\n",
        "\n",
        "    word_list = word_tokenize(text)\n",
        "    rev = []\n",
        "    lemmatizer = WordNetLemmatizer() \n",
        "    stemmer = PorterStemmer() \n",
        "    for word, tag in pos_tag(word_list):\n",
        "        if tag.startswith('J'):\n",
        "            w = lemmatizer.lemmatize(word, pos='a')\n",
        "        elif tag.startswith('V'):\n",
        "            w = lemmatizer.lemmatize(word, pos='v')\n",
        "        elif tag.startswith('N'):\n",
        "            w = lemmatizer.lemmatize(word, pos='n')\n",
        "        elif tag.startswith('R'):\n",
        "            w = lemmatizer.lemmatize(word, pos='r')\n",
        "        else:\n",
        "            w = word\n",
        "        w = stemmer.stem(w)\n",
        "        rev.append(w)\n",
        "    review = ' '.join(rev)\n",
        "    return review"
      ],
      "execution_count": 37,
      "outputs": []
    },
    {
      "cell_type": "markdown",
      "source": [
        "## Embedding"
      ],
      "metadata": {
        "id": "BtZhMhx4wDxG"
      }
    },
    {
      "cell_type": "markdown",
      "source": [
        "### Installation"
      ],
      "metadata": {
        "id": "xbzm3ncFv7HZ"
      }
    },
    {
      "cell_type": "code",
      "metadata": {
        "id": "u978rv6ne2w3"
      },
      "source": [
        "# !pip install bert-embedding\n",
        "# !pip install sentence-transformers"
      ],
      "execution_count": 38,
      "outputs": []
    },
    {
      "cell_type": "markdown",
      "source": [
        "### Initialization"
      ],
      "metadata": {
        "id": "Kvi5sw7yv-YD"
      }
    },
    {
      "cell_type": "code",
      "metadata": {
        "colab": {
          "base_uri": "https://localhost:8080/"
        },
        "id": "p98w-uMnexM5",
        "outputId": "2b11ad26-74da-48eb-a6a7-a41d9f8f2391"
      },
      "source": [
        "import os\n",
        "import random\n",
        "import numpy as np\n",
        "import pandas as pd\n",
        "import nltk\n",
        "nltk.download('punkt')\n",
        "nltk.download('stopwords')\n",
        "nltk.download('averaged_perceptron_tagger')\n",
        "nltk.download('wordnet')\n",
        "from nltk.tokenize import sent_tokenize, word_tokenize \n",
        "from nltk.corpus import stopwords\n",
        "from nltk.stem import PorterStemmer\n",
        "from nltk.stem import WordNetLemmatizer \n",
        "from nltk.corpus import wordnet\n",
        "from nltk.tag import pos_tag\n",
        "import re\n",
        "from sklearn.svm import SVC\n",
        "from sklearn.model_selection import GridSearchCV\n",
        "from sklearn.metrics import accuracy_score\n",
        "from sklearn.metrics import classification_report, confusion_matrix\n",
        "from sklearn.metrics import roc_curve, auc\n",
        "from matplotlib import pyplot as plt\n",
        "from sklearn.naive_bayes import GaussianNB, MultinomialNB\n",
        "from sklearn.tree import DecisionTreeClassifier\n",
        "from sklearn.ensemble import RandomForestClassifier\n",
        "from sklearn.neural_network import MLPClassifier\n",
        "import itertools\n",
        "from sklearn.feature_extraction.text import CountVectorizer\n",
        "from sklearn.feature_extraction.text import TfidfVectorizer\n",
        "\n",
        "from bert_embedding import BertEmbedding\n",
        "from sentence_transformers import SentenceTransformer\n",
        "import gensim \n",
        "from gensim.models import Word2Vec \n",
        "#Glove, COVE, FastText and other langauge embeddings "
      ],
      "execution_count": 39,
      "outputs": [
        {
          "output_type": "stream",
          "name": "stdout",
          "text": [
            "[nltk_data] Downloading package punkt to /root/nltk_data...\n",
            "[nltk_data]   Package punkt is already up-to-date!\n",
            "[nltk_data] Downloading package stopwords to /root/nltk_data...\n",
            "[nltk_data]   Package stopwords is already up-to-date!\n",
            "[nltk_data] Downloading package averaged_perceptron_tagger to\n",
            "[nltk_data]     /root/nltk_data...\n",
            "[nltk_data]   Package averaged_perceptron_tagger is already up-to-\n",
            "[nltk_data]       date!\n",
            "[nltk_data] Downloading package wordnet to /root/nltk_data...\n",
            "[nltk_data]   Package wordnet is already up-to-date!\n"
          ]
        }
      ]
    },
    {
      "cell_type": "code",
      "metadata": {
        "colab": {
          "base_uri": "https://localhost:8080/",
          "height": 81
        },
        "id": "1SX0IQPHcVL6",
        "outputId": "c0bfd2d3-f927-4971-d510-c7ca673e69a4"
      },
      "source": [
        "embedding = ''\n",
        "# for Word2Vec with stop words\n",
        "poems['Poem'] = poems['Poem'].apply(cleanPoemText)\n",
        "poems.head(1)"
      ],
      "execution_count": 40,
      "outputs": [
        {
          "output_type": "execute_result",
          "data": {
            "text/plain": [
              "           Title                                               Poem  \\\n",
              "0  Mother To Son  well son will tell you life for me ai not been...   \n",
              "\n",
              "                                                 POS  \n",
              "0  [son, ll, tell, Life, ain, t, crystal, stair, ...  "
            ],
            "text/html": [
              "\n",
              "  <div id=\"df-41f25271-9844-4d7a-9ca9-c027169e39c1\">\n",
              "    <div class=\"colab-df-container\">\n",
              "      <div>\n",
              "<style scoped>\n",
              "    .dataframe tbody tr th:only-of-type {\n",
              "        vertical-align: middle;\n",
              "    }\n",
              "\n",
              "    .dataframe tbody tr th {\n",
              "        vertical-align: top;\n",
              "    }\n",
              "\n",
              "    .dataframe thead th {\n",
              "        text-align: right;\n",
              "    }\n",
              "</style>\n",
              "<table border=\"1\" class=\"dataframe\">\n",
              "  <thead>\n",
              "    <tr style=\"text-align: right;\">\n",
              "      <th></th>\n",
              "      <th>Title</th>\n",
              "      <th>Poem</th>\n",
              "      <th>POS</th>\n",
              "    </tr>\n",
              "  </thead>\n",
              "  <tbody>\n",
              "    <tr>\n",
              "      <th>0</th>\n",
              "      <td>Mother To Son</td>\n",
              "      <td>well son will tell you life for me ai not been...</td>\n",
              "      <td>[son, ll, tell, Life, ain, t, crystal, stair, ...</td>\n",
              "    </tr>\n",
              "  </tbody>\n",
              "</table>\n",
              "</div>\n",
              "      <button class=\"colab-df-convert\" onclick=\"convertToInteractive('df-41f25271-9844-4d7a-9ca9-c027169e39c1')\"\n",
              "              title=\"Convert this dataframe to an interactive table.\"\n",
              "              style=\"display:none;\">\n",
              "        \n",
              "  <svg xmlns=\"http://www.w3.org/2000/svg\" height=\"24px\"viewBox=\"0 0 24 24\"\n",
              "       width=\"24px\">\n",
              "    <path d=\"M0 0h24v24H0V0z\" fill=\"none\"/>\n",
              "    <path d=\"M18.56 5.44l.94 2.06.94-2.06 2.06-.94-2.06-.94-.94-2.06-.94 2.06-2.06.94zm-11 1L8.5 8.5l.94-2.06 2.06-.94-2.06-.94L8.5 2.5l-.94 2.06-2.06.94zm10 10l.94 2.06.94-2.06 2.06-.94-2.06-.94-.94-2.06-.94 2.06-2.06.94z\"/><path d=\"M17.41 7.96l-1.37-1.37c-.4-.4-.92-.59-1.43-.59-.52 0-1.04.2-1.43.59L10.3 9.45l-7.72 7.72c-.78.78-.78 2.05 0 2.83L4 21.41c.39.39.9.59 1.41.59.51 0 1.02-.2 1.41-.59l7.78-7.78 2.81-2.81c.8-.78.8-2.07 0-2.86zM5.41 20L4 18.59l7.72-7.72 1.47 1.35L5.41 20z\"/>\n",
              "  </svg>\n",
              "      </button>\n",
              "      \n",
              "  <style>\n",
              "    .colab-df-container {\n",
              "      display:flex;\n",
              "      flex-wrap:wrap;\n",
              "      gap: 12px;\n",
              "    }\n",
              "\n",
              "    .colab-df-convert {\n",
              "      background-color: #E8F0FE;\n",
              "      border: none;\n",
              "      border-radius: 50%;\n",
              "      cursor: pointer;\n",
              "      display: none;\n",
              "      fill: #1967D2;\n",
              "      height: 32px;\n",
              "      padding: 0 0 0 0;\n",
              "      width: 32px;\n",
              "    }\n",
              "\n",
              "    .colab-df-convert:hover {\n",
              "      background-color: #E2EBFA;\n",
              "      box-shadow: 0px 1px 2px rgba(60, 64, 67, 0.3), 0px 1px 3px 1px rgba(60, 64, 67, 0.15);\n",
              "      fill: #174EA6;\n",
              "    }\n",
              "\n",
              "    [theme=dark] .colab-df-convert {\n",
              "      background-color: #3B4455;\n",
              "      fill: #D2E3FC;\n",
              "    }\n",
              "\n",
              "    [theme=dark] .colab-df-convert:hover {\n",
              "      background-color: #434B5C;\n",
              "      box-shadow: 0px 1px 3px 1px rgba(0, 0, 0, 0.15);\n",
              "      filter: drop-shadow(0px 1px 2px rgba(0, 0, 0, 0.3));\n",
              "      fill: #FFFFFF;\n",
              "    }\n",
              "  </style>\n",
              "\n",
              "      <script>\n",
              "        const buttonEl =\n",
              "          document.querySelector('#df-41f25271-9844-4d7a-9ca9-c027169e39c1 button.colab-df-convert');\n",
              "        buttonEl.style.display =\n",
              "          google.colab.kernel.accessAllowed ? 'block' : 'none';\n",
              "\n",
              "        async function convertToInteractive(key) {\n",
              "          const element = document.querySelector('#df-41f25271-9844-4d7a-9ca9-c027169e39c1');\n",
              "          const dataTable =\n",
              "            await google.colab.kernel.invokeFunction('convertToInteractive',\n",
              "                                                     [key], {});\n",
              "          if (!dataTable) return;\n",
              "\n",
              "          const docLinkHtml = 'Like what you see? Visit the ' +\n",
              "            '<a target=\"_blank\" href=https://colab.research.google.com/notebooks/data_table.ipynb>data table notebook</a>'\n",
              "            + ' to learn more about interactive tables.';\n",
              "          element.innerHTML = '';\n",
              "          dataTable['output_type'] = 'display_data';\n",
              "          await google.colab.output.renderOutput(dataTable, element);\n",
              "          const docLink = document.createElement('div');\n",
              "          docLink.innerHTML = docLinkHtml;\n",
              "          element.appendChild(docLink);\n",
              "        }\n",
              "      </script>\n",
              "    </div>\n",
              "  </div>\n",
              "  "
            ]
          },
          "metadata": {},
          "execution_count": 40
        }
      ]
    },
    {
      "cell_type": "code",
      "metadata": {
        "id": "KliNPiiZcdvU"
      },
      "source": [
        "poems['clean_text_normalized'] = poems['Poem'].apply(normalization_pos)"
      ],
      "execution_count": 41,
      "outputs": []
    },
    {
      "cell_type": "code",
      "source": [
        "poems"
      ],
      "metadata": {
        "colab": {
          "base_uri": "https://localhost:8080/",
          "height": 112
        },
        "id": "xWacnatA0TaO",
        "outputId": "bc3a4732-ed04-417f-97b7-69788caa5cbc"
      },
      "execution_count": 42,
      "outputs": [
        {
          "output_type": "execute_result",
          "data": {
            "text/plain": [
              "                 Title                                               Poem  \\\n",
              "0        Mother To Son  well son will tell you life for me ai not been...   \n",
              "1  In Blackwater woods  look the trees are turning their own bodies in...   \n",
              "\n",
              "                                                 POS  \\\n",
              "0  [son, ll, tell, Life, ain, t, crystal, stair, ...   \n",
              "1  [son, ll, tell, Life, ain, t, crystal, stair, ...   \n",
              "\n",
              "                               clean_text_normalized  \n",
              "0  well son will tell you life for me ai not be n...  \n",
              "1  look the tree be turn their own bodi into pill...  "
            ],
            "text/html": [
              "\n",
              "  <div id=\"df-6f88adc9-e621-4603-9dba-8ed249cc8885\">\n",
              "    <div class=\"colab-df-container\">\n",
              "      <div>\n",
              "<style scoped>\n",
              "    .dataframe tbody tr th:only-of-type {\n",
              "        vertical-align: middle;\n",
              "    }\n",
              "\n",
              "    .dataframe tbody tr th {\n",
              "        vertical-align: top;\n",
              "    }\n",
              "\n",
              "    .dataframe thead th {\n",
              "        text-align: right;\n",
              "    }\n",
              "</style>\n",
              "<table border=\"1\" class=\"dataframe\">\n",
              "  <thead>\n",
              "    <tr style=\"text-align: right;\">\n",
              "      <th></th>\n",
              "      <th>Title</th>\n",
              "      <th>Poem</th>\n",
              "      <th>POS</th>\n",
              "      <th>clean_text_normalized</th>\n",
              "    </tr>\n",
              "  </thead>\n",
              "  <tbody>\n",
              "    <tr>\n",
              "      <th>0</th>\n",
              "      <td>Mother To Son</td>\n",
              "      <td>well son will tell you life for me ai not been...</td>\n",
              "      <td>[son, ll, tell, Life, ain, t, crystal, stair, ...</td>\n",
              "      <td>well son will tell you life for me ai not be n...</td>\n",
              "    </tr>\n",
              "    <tr>\n",
              "      <th>1</th>\n",
              "      <td>In Blackwater woods</td>\n",
              "      <td>look the trees are turning their own bodies in...</td>\n",
              "      <td>[son, ll, tell, Life, ain, t, crystal, stair, ...</td>\n",
              "      <td>look the tree be turn their own bodi into pill...</td>\n",
              "    </tr>\n",
              "  </tbody>\n",
              "</table>\n",
              "</div>\n",
              "      <button class=\"colab-df-convert\" onclick=\"convertToInteractive('df-6f88adc9-e621-4603-9dba-8ed249cc8885')\"\n",
              "              title=\"Convert this dataframe to an interactive table.\"\n",
              "              style=\"display:none;\">\n",
              "        \n",
              "  <svg xmlns=\"http://www.w3.org/2000/svg\" height=\"24px\"viewBox=\"0 0 24 24\"\n",
              "       width=\"24px\">\n",
              "    <path d=\"M0 0h24v24H0V0z\" fill=\"none\"/>\n",
              "    <path d=\"M18.56 5.44l.94 2.06.94-2.06 2.06-.94-2.06-.94-.94-2.06-.94 2.06-2.06.94zm-11 1L8.5 8.5l.94-2.06 2.06-.94-2.06-.94L8.5 2.5l-.94 2.06-2.06.94zm10 10l.94 2.06.94-2.06 2.06-.94-2.06-.94-.94-2.06-.94 2.06-2.06.94z\"/><path d=\"M17.41 7.96l-1.37-1.37c-.4-.4-.92-.59-1.43-.59-.52 0-1.04.2-1.43.59L10.3 9.45l-7.72 7.72c-.78.78-.78 2.05 0 2.83L4 21.41c.39.39.9.59 1.41.59.51 0 1.02-.2 1.41-.59l7.78-7.78 2.81-2.81c.8-.78.8-2.07 0-2.86zM5.41 20L4 18.59l7.72-7.72 1.47 1.35L5.41 20z\"/>\n",
              "  </svg>\n",
              "      </button>\n",
              "      \n",
              "  <style>\n",
              "    .colab-df-container {\n",
              "      display:flex;\n",
              "      flex-wrap:wrap;\n",
              "      gap: 12px;\n",
              "    }\n",
              "\n",
              "    .colab-df-convert {\n",
              "      background-color: #E8F0FE;\n",
              "      border: none;\n",
              "      border-radius: 50%;\n",
              "      cursor: pointer;\n",
              "      display: none;\n",
              "      fill: #1967D2;\n",
              "      height: 32px;\n",
              "      padding: 0 0 0 0;\n",
              "      width: 32px;\n",
              "    }\n",
              "\n",
              "    .colab-df-convert:hover {\n",
              "      background-color: #E2EBFA;\n",
              "      box-shadow: 0px 1px 2px rgba(60, 64, 67, 0.3), 0px 1px 3px 1px rgba(60, 64, 67, 0.15);\n",
              "      fill: #174EA6;\n",
              "    }\n",
              "\n",
              "    [theme=dark] .colab-df-convert {\n",
              "      background-color: #3B4455;\n",
              "      fill: #D2E3FC;\n",
              "    }\n",
              "\n",
              "    [theme=dark] .colab-df-convert:hover {\n",
              "      background-color: #434B5C;\n",
              "      box-shadow: 0px 1px 3px 1px rgba(0, 0, 0, 0.15);\n",
              "      filter: drop-shadow(0px 1px 2px rgba(0, 0, 0, 0.3));\n",
              "      fill: #FFFFFF;\n",
              "    }\n",
              "  </style>\n",
              "\n",
              "      <script>\n",
              "        const buttonEl =\n",
              "          document.querySelector('#df-6f88adc9-e621-4603-9dba-8ed249cc8885 button.colab-df-convert');\n",
              "        buttonEl.style.display =\n",
              "          google.colab.kernel.accessAllowed ? 'block' : 'none';\n",
              "\n",
              "        async function convertToInteractive(key) {\n",
              "          const element = document.querySelector('#df-6f88adc9-e621-4603-9dba-8ed249cc8885');\n",
              "          const dataTable =\n",
              "            await google.colab.kernel.invokeFunction('convertToInteractive',\n",
              "                                                     [key], {});\n",
              "          if (!dataTable) return;\n",
              "\n",
              "          const docLinkHtml = 'Like what you see? Visit the ' +\n",
              "            '<a target=\"_blank\" href=https://colab.research.google.com/notebooks/data_table.ipynb>data table notebook</a>'\n",
              "            + ' to learn more about interactive tables.';\n",
              "          element.innerHTML = '';\n",
              "          dataTable['output_type'] = 'display_data';\n",
              "          await google.colab.output.renderOutput(dataTable, element);\n",
              "          const docLink = document.createElement('div');\n",
              "          docLink.innerHTML = docLinkHtml;\n",
              "          element.appendChild(docLink);\n",
              "        }\n",
              "      </script>\n",
              "    </div>\n",
              "  </div>\n",
              "  "
            ]
          },
          "metadata": {},
          "execution_count": 42
        }
      ]
    },
    {
      "cell_type": "code",
      "source": [
        ""
      ],
      "metadata": {
        "id": "VKJQuwj0WTEr"
      },
      "execution_count": 42,
      "outputs": []
    }
  ]
}